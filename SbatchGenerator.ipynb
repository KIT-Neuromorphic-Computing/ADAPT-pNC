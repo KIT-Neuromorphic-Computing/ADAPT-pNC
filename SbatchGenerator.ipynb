{
 "cells": [
  {
   "cell_type": "code",
   "execution_count": 1,
   "id": "d3709013-e2ef-4ee7-8e7d-a1f21cf476fd",
   "metadata": {},
   "outputs": [],
   "source": [
    "def WriteHeader(f, TaskName):\n",
    "    f.write(\"#!/bin/bash\\n\\n\")\n",
    "    f.write(\"#SBATCH --partition=single\\n\")\n",
    "    f.write(\"#SBATCH --ntasks-per-node=40\\n\")\n",
    "    f.write(\"#SBATCH --time=72:00:00\\n\")\n",
    "    f.write(f\"#SBATCH --job-name={TaskName}\\n\")\n",
    "    f.write(\"#SBATCH --error=%x.%j.err\\n\")\n",
    "    f.write(\"#SBATCH --output=%x.%j.out\\n\")\n",
    "    f.write(\"#SBATCH --mail-user=hzhao@teco.edu\\n\\n\")"
   ]
  },
  {
   "cell_type": "code",
   "execution_count": 6,
   "id": "1b77015c-5e19-420e-950c-c09d7316493b",
   "metadata": {
    "tags": []
   },
   "outputs": [],
   "source": [
    "import os\n",
    "import torch\n",
    "from configuration import *\n",
    "from utils import *\n",
    "import copy\n",
    "args = parser.parse_args([])\n",
    "\n",
    "files = []\n",
    "if os.path.exists('./FaultAnalysisDropout/models'):\n",
    "    files = os.listdir('./FaultAnalysisDropout/models')\n",
    "files = [f for f in files if f.endswith('.model')]\n",
    "files.sort()\n",
    "\n",
    "def write_jobs(f, job_counter, epsilon, ds, seed, do):\n",
    "    line = f'python3 experiment.py --DATASET {ds:02d} --SEED {seed:02d} --e_train {epsilon} --dropout {do} --projectname FaultAnalysisDropout &\\n'\n",
    "    f.write(line)\n",
    "    job_counter += 1\n",
    "    return job_counter\n",
    "\n",
    "job_counter = 0\n",
    "file_counter = 1\n",
    "\n",
    "f = open(f'run_experiment_{file_counter:02d}.sh', 'w')\n",
    "WriteHeader(f, f'FAD')\n",
    "\n",
    "for epsilon in [0., 0.05, 0.1]:\n",
    "    for do in [0., 0.05, 0.1]:\n",
    "        for ds in range(13):\n",
    "            for seed in range(10):\n",
    "                if job_counter >= 10:\n",
    "                    f.write(\"\\nwait\\n\")\n",
    "                    f.close()\n",
    "                    file_counter += 1\n",
    "                    job_counter = 0\n",
    "                    \n",
    "                    f = open(f'run_experiment_{file_counter:02d}.sh', 'w')\n",
    "                    WriteHeader(f, f'FAD')\n",
    "\n",
    "                local_args = copy.deepcopy(args)\n",
    "                local_args.DATASET = ds\n",
    "                local_args.e_train = epsilon\n",
    "                local_args.dropout = do\n",
    "                local_args.SEED = seed\n",
    "                local_args = FormulateArgs(local_args)\n",
    "                _, datainfo = GetDataLoader(local_args, 'train')\n",
    "                data = f\"data_{local_args.DATASET:02d}_{datainfo['dataname']}_seed_{local_args.SEED:02d}_epsilon_{local_args.e_train}_dropout_{local_args.dropout}.model\"\n",
    "                \n",
    "                if data not in files:\n",
    "                    job_counter = write_jobs(f, job_counter, epsilon, ds, seed, do)\n",
    "\n",
    "if not f.closed:\n",
    "    f.write(\"\\nwait\\n\")\n",
    "    f.close()"
   ]
  },
  {
   "cell_type": "code",
   "execution_count": 2,
   "id": "005f2fc7-6efd-4b58-9675-0132395f3ce4",
   "metadata": {},
   "outputs": [],
   "source": [
    "def write_jobs(f, job_counter, epsilon, ds, seed, do):\n",
    "    line = f'python3 evaluation.py --DATASET {ds:02d} --SEED {seed:02d} --e_train {epsilon} --dropout {do} &\\n'\n",
    "    f.write(line)\n",
    "    job_counter += 1\n",
    "    return job_counter\n",
    "\n",
    "job_counter = 0\n",
    "file_counter = 1\n",
    "\n",
    "# Open the first file for the current epsilon\n",
    "f = open(f'evaluation_{file_counter:02d}.sh', 'w')\n",
    "WriteHeader(f, f'FADE')\n",
    "\n",
    "for epsilon in [0., 0.1]:\n",
    "    for do in [0., 0.1]:\n",
    "        for ds in range(13):\n",
    "            for seed in range(10):\n",
    "                if job_counter >= 40:\n",
    "                    f.write(\"\\nwait\\n\")\n",
    "                    f.close()\n",
    "                    file_counter += 1\n",
    "                    job_counter = 0\n",
    "                    \n",
    "                    f = open(f'evaluation_{file_counter:02d}.sh', 'w')\n",
    "                    WriteHeader(f, f'FADE')\n",
    "\n",
    "                job_counter = write_jobs(f, job_counter, epsilon, ds, seed, do)\n",
    "\n",
    "if not f.closed:\n",
    "    f.write(\"\\nwait\\n\")\n",
    "    f.close()"
   ]
  },
  {
   "cell_type": "code",
   "execution_count": 11,
   "id": "b02a7b62-caa6-4a7d-9a22-283fbace3cfb",
   "metadata": {},
   "outputs": [],
   "source": [
    "f = open(f'run_experiment.sh', 'w')\n",
    "for i in range(1,37):\n",
    "    f.write(f'sbatch run_experiment_{i:02d}.sh \\n')\n",
    "f.close()"
   ]
  },
  {
   "cell_type": "code",
   "execution_count": 3,
   "id": "e91f5225-dbba-40c1-bbab-cd5e3ab65c65",
   "metadata": {},
   "outputs": [],
   "source": [
    "f = open(f'run_evaluation.sh', 'w')\n",
    "for i in range(1,13):\n",
    "    f.write(f'sbatch evaluation_{i:02d}.sh \\n')\n",
    "f.close()"
   ]
  },
  {
   "cell_type": "code",
   "execution_count": null,
   "id": "a0b29cb5-be5f-4a43-9646-b0e4ef17b977",
   "metadata": {},
   "outputs": [],
   "source": []
  }
 ],
 "metadata": {
  "kernelspec": {
   "display_name": "pNN",
   "language": "python",
   "name": "pnn"
  },
  "language_info": {
   "codemirror_mode": {
    "name": "ipython",
    "version": 3
   },
   "file_extension": ".py",
   "mimetype": "text/x-python",
   "name": "python",
   "nbconvert_exporter": "python",
   "pygments_lexer": "ipython3",
   "version": "3.9.16"
  }
 },
 "nbformat": 4,
 "nbformat_minor": 5
}
